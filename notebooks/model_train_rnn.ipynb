{
 "cells": [
  {
   "cell_type": "code",
   "execution_count": 1,
   "metadata": {},
   "outputs": [],
   "source": [
    "import pandas as pd\n",
    "import matplotlib.pyplot as plt\n",
    "import numpy as np\n",
    "import librosa\n",
    "import librosa.display\n",
    "import tensorflow as tf\n",
    "import os\n",
    "import shutil\n",
    "import pickle\n",
    "import cv2\n",
    "import json\n",
    "from sklearn.model_selection import train_test_split,StratifiedShuffleSplit\n",
    "from sklearn.preprocessing import LabelBinarizer\n",
    "from sklearn.preprocessing import LabelEncoder\n",
    "from tensorflow.keras.utils import to_categorical\n",
    "from tensorflow.keras.models import Sequential\n",
    "from tensorflow.keras.layers import Dense, LSTM, Dropout\n",
    "from sklearn.metrics import classification_report\n",
    "from tensorflow.keras.optimizers import Optimizer"
   ]
  },
  {
   "cell_type": "code",
   "execution_count": 2,
   "metadata": {},
   "outputs": [],
   "source": [
    "file_path = 'C:/Users/Akoba/Desktop/START up/Covid19_research_project/data/raw/cough_sounds'\n",
    "sound_metadata = pd.read_csv(file_path + '/sound-metadata.csv', encoding = 'latin1')"
   ]
  },
  {
   "cell_type": "code",
   "execution_count": 3,
   "metadata": {},
   "outputs": [
    {
     "data": {
      "text/plain": [
       "Index(['USER_ID', 'COUNTRY', 'AGE', 'COVID_STATUS', 'ENGLISH_PROFICIENCY',\n",
       "       'GENDER', 'COUNTY_RO_STATE', 'CITY_LOCALITY', 'Diabetes', 'Asthma',\n",
       "       'Smoker', 'Hypertension', 'Fever', 'Returning_User', 'Using_Mask',\n",
       "       'Cold', 'Caugh', 'Muscle_Pain', 'loss_of_smell', 'Sore_Throat',\n",
       "       'Fatigue', 'Breathing_Difficulties', 'Chronic_Lung_Disease',\n",
       "       'Ischemic_Heart_Disease', 'Pneumonia', 'COVID_test_status', 'Diarrheoa',\n",
       "       'DATES', 'breathing-deep', 'breathing-shallow', 'cough-heavy',\n",
       "       'cough-shallow', 'counting-fast', 'counting-normal', 'vowel-a',\n",
       "       'vowel-e', 'vowel-o'],\n",
       "      dtype='object')"
      ]
     },
     "execution_count": 3,
     "metadata": {},
     "output_type": "execute_result"
    }
   ],
   "source": [
    "sound_metadata.columns"
   ]
  },
  {
   "cell_type": "code",
   "execution_count": 4,
   "metadata": {},
   "outputs": [],
   "source": [
    "sound_metadata.drop('COUNTRY', axis=1, inplace=True)\n",
    "sound_metadata.drop('GENDER', axis=1, inplace=True)\n",
    "sound_metadata.drop('COUNTY_RO_STATE', axis=1, inplace=True)\n",
    "sound_metadata.drop('CITY_LOCALITY', axis=1, inplace=True)\n",
    "sound_metadata.drop('ENGLISH_PROFICIENCY', axis=1, inplace=True)\n",
    "sound_metadata.drop('DATES', axis=1, inplace=True)"
   ]
  },
  {
   "cell_type": "code",
   "execution_count": 5,
   "metadata": {},
   "outputs": [
    {
     "data": {
      "text/plain": [
       "Index(['USER_ID', 'AGE', 'COVID_STATUS', 'Diabetes', 'Asthma', 'Smoker',\n",
       "       'Hypertension', 'Fever', 'Returning_User', 'Using_Mask', 'Cold',\n",
       "       'Caugh', 'Muscle_Pain', 'loss_of_smell', 'Sore_Throat', 'Fatigue',\n",
       "       'Breathing_Difficulties', 'Chronic_Lung_Disease',\n",
       "       'Ischemic_Heart_Disease', 'Pneumonia', 'COVID_test_status', 'Diarrheoa',\n",
       "       'breathing-deep', 'breathing-shallow', 'cough-heavy', 'cough-shallow',\n",
       "       'counting-fast', 'counting-normal', 'vowel-a', 'vowel-e', 'vowel-o'],\n",
       "      dtype='object')"
      ]
     },
     "execution_count": 5,
     "metadata": {},
     "output_type": "execute_result"
    }
   ],
   "source": [
    "sound_metadata.columns"
   ]
  },
  {
   "cell_type": "code",
   "execution_count": 8,
   "metadata": {},
   "outputs": [
    {
     "name": "stdout",
     "output_type": "stream",
     "text": [
      "<bound method Series.unique of 0                       healthy\n",
      "1                       healthy\n",
      "2                       healthy\n",
      "3                       healthy\n",
      "4                       healthy\n",
      "                 ...           \n",
      "1392    no_resp_illness_exposed\n",
      "1393                    healthy\n",
      "1394              positive_mild\n",
      "1395                    healthy\n",
      "1396                    healthy\n",
      "Name: COVID_STATUS, Length: 1397, dtype: object>\n"
     ]
    }
   ],
   "source": [
    "print(sound_metadata['COVID_STATUS'].unique)"
   ]
  },
  {
   "cell_type": "code",
   "execution_count": 11,
   "metadata": {},
   "outputs": [
    {
     "name": "stdout",
     "output_type": "stream",
     "text": [
      "Number of unique values in 'column_name': 8\n"
     ]
    }
   ],
   "source": [
    "uni_val = sound_metadata['COVID_STATUS'].nunique()\n",
    "print(\"Number of unique values in 'column_name':\", uni_val)"
   ]
  },
  {
   "cell_type": "code",
   "execution_count": 12,
   "metadata": {},
   "outputs": [],
   "source": [
    "def label_for_cat(file_path):\n",
    "    if 'train' in file_path:\n",
    "        res = 'train'\n",
    "    else:\n",
    "        res = 'test'\n",
    "    return res"
   ]
  },
  {
   "cell_type": "code",
   "execution_count": 13,
   "metadata": {},
   "outputs": [],
   "source": [
    "sound_metadata['COVID_test_status'] = sound_metadata['COVID_test_status'].astype('str')\n",
    "sound_metadata['COVID_LABEL'] = np.vectorize(label_for_cat)(sound_metadata['COVID_test_status'])"
   ]
  },
  {
   "cell_type": "code",
   "execution_count": 14,
   "metadata": {},
   "outputs": [
    {
     "data": {
      "text/plain": [
       "USER_ID                   1397\n",
       "AGE                       1397\n",
       "COVID_STATUS              1397\n",
       "Diabetes                  1397\n",
       "Asthma                    1397\n",
       "Smoker                    1397\n",
       "Hypertension              1397\n",
       "Fever                     1397\n",
       "Returning_User            1397\n",
       "Using_Mask                1397\n",
       "Cold                      1397\n",
       "Caugh                     1397\n",
       "Muscle_Pain               1397\n",
       "loss_of_smell             1397\n",
       "Sore_Throat               1397\n",
       "Fatigue                   1397\n",
       "Breathing_Difficulties    1397\n",
       "Chronic_Lung_Disease      1397\n",
       "Ischemic_Heart_Disease    1397\n",
       "Pneumonia                 1397\n",
       "COVID_test_status         1397\n",
       "Diarrheoa                 1397\n",
       "breathing-deep            1396\n",
       "breathing-shallow         1396\n",
       "cough-heavy               1396\n",
       "cough-shallow             1395\n",
       "counting-fast             1397\n",
       "counting-normal           1397\n",
       "vowel-a                   1396\n",
       "vowel-e                   1396\n",
       "vowel-o                   1395\n",
       "COVID_LABEL               1397\n",
       "dtype: int64"
      ]
     },
     "execution_count": 14,
     "metadata": {},
     "output_type": "execute_result"
    }
   ],
   "source": [
    "sound_metadata.columns\n",
    "sound_metadata.count()"
   ]
  },
  {
   "cell_type": "code",
   "execution_count": 15,
   "metadata": {},
   "outputs": [
    {
     "data": {
      "text/html": [
       "<div>\n",
       "<style scoped>\n",
       "    .dataframe tbody tr th:only-of-type {\n",
       "        vertical-align: middle;\n",
       "    }\n",
       "\n",
       "    .dataframe tbody tr th {\n",
       "        vertical-align: top;\n",
       "    }\n",
       "\n",
       "    .dataframe thead th {\n",
       "        text-align: right;\n",
       "    }\n",
       "</style>\n",
       "<table border=\"1\" class=\"dataframe\">\n",
       "  <thead>\n",
       "    <tr style=\"text-align: right;\">\n",
       "      <th></th>\n",
       "      <th></th>\n",
       "      <th>User Count</th>\n",
       "    </tr>\n",
       "    <tr>\n",
       "      <th>COVID_LABEL</th>\n",
       "      <th>COVID_test_status</th>\n",
       "      <th></th>\n",
       "    </tr>\n",
       "  </thead>\n",
       "  <tbody>\n",
       "    <tr>\n",
       "      <th rowspan=\"3\" valign=\"top\">test</th>\n",
       "      <th>0.0</th>\n",
       "      <td>1341</td>\n",
       "    </tr>\n",
       "    <tr>\n",
       "      <th>1.0</th>\n",
       "      <td>14</td>\n",
       "    </tr>\n",
       "    <tr>\n",
       "      <th>nan</th>\n",
       "      <td>42</td>\n",
       "    </tr>\n",
       "  </tbody>\n",
       "</table>\n",
       "</div>"
      ],
      "text/plain": [
       "                               User Count\n",
       "COVID_LABEL COVID_test_status            \n",
       "test        0.0                      1341\n",
       "            1.0                        14\n",
       "            nan                        42"
      ]
     },
     "execution_count": 15,
     "metadata": {},
     "output_type": "execute_result"
    }
   ],
   "source": [
    "sound_metadata.groupby(['COVID_LABEL','COVID_test_status']).agg({'USER_ID':'count'}).rename(columns={'USER_ID':'User Count'})"
   ]
  },
  {
   "cell_type": "code",
   "execution_count": 16,
   "metadata": {},
   "outputs": [
    {
     "name": "stderr",
     "output_type": "stream",
     "text": [
      "C:\\Users\\Akoba\\AppData\\Local\\Temp\\ipykernel_21548\\1047930978.py:2: FutureWarning: A value is trying to be set on a copy of a DataFrame or Series through chained assignment using an inplace method.\n",
      "The behavior will change in pandas 3.0. This inplace method will never work because the intermediate object on which we are setting values always behaves as a copy.\n",
      "\n",
      "For example, when doing 'df[col].method(value, inplace=True)', try using 'df.method({col: value}, inplace=True)' or df[col] = df[col].method(value) instead, to perform the operation inplace on the original object.\n",
      "\n",
      "\n",
      "  sound_metadata['COVID_test_status'].fillna(1.0, inplace=True)\n"
     ]
    }
   ],
   "source": [
    "# Fill NaN values in 'COVID_test_status' column with 1.0\n",
    "sound_metadata['COVID_test_status'].fillna(1.0, inplace=True)"
   ]
  },
  {
   "cell_type": "code",
   "execution_count": 17,
   "metadata": {},
   "outputs": [
    {
     "data": {
      "text/html": [
       "<div>\n",
       "<style scoped>\n",
       "    .dataframe tbody tr th:only-of-type {\n",
       "        vertical-align: middle;\n",
       "    }\n",
       "\n",
       "    .dataframe tbody tr th {\n",
       "        vertical-align: top;\n",
       "    }\n",
       "\n",
       "    .dataframe thead th {\n",
       "        text-align: right;\n",
       "    }\n",
       "</style>\n",
       "<table border=\"1\" class=\"dataframe\">\n",
       "  <thead>\n",
       "    <tr style=\"text-align: right;\">\n",
       "      <th></th>\n",
       "      <th></th>\n",
       "      <th>User Count</th>\n",
       "    </tr>\n",
       "    <tr>\n",
       "      <th>COVID_LABEL</th>\n",
       "      <th>COVID_test_status</th>\n",
       "      <th></th>\n",
       "    </tr>\n",
       "  </thead>\n",
       "  <tbody>\n",
       "    <tr>\n",
       "      <th rowspan=\"3\" valign=\"top\">test</th>\n",
       "      <th>0.0</th>\n",
       "      <td>1341</td>\n",
       "    </tr>\n",
       "    <tr>\n",
       "      <th>1.0</th>\n",
       "      <td>14</td>\n",
       "    </tr>\n",
       "    <tr>\n",
       "      <th>nan</th>\n",
       "      <td>42</td>\n",
       "    </tr>\n",
       "  </tbody>\n",
       "</table>\n",
       "</div>"
      ],
      "text/plain": [
       "                               User Count\n",
       "COVID_LABEL COVID_test_status            \n",
       "test        0.0                      1341\n",
       "            1.0                        14\n",
       "            nan                        42"
      ]
     },
     "execution_count": 17,
     "metadata": {},
     "output_type": "execute_result"
    }
   ],
   "source": [
    "sound_metadata.groupby(['COVID_LABEL','COVID_test_status']).agg({'USER_ID':'count'}).rename(columns={'USER_ID':'User Count'})"
   ]
  },
  {
   "cell_type": "code",
   "execution_count": 18,
   "metadata": {},
   "outputs": [
    {
     "data": {
      "text/plain": [
       "USER_ID                   1397\n",
       "AGE                       1397\n",
       "COVID_STATUS              1397\n",
       "Diabetes                  1397\n",
       "Asthma                    1397\n",
       "Smoker                    1397\n",
       "Hypertension              1397\n",
       "Fever                     1397\n",
       "Returning_User            1397\n",
       "Using_Mask                1397\n",
       "Cold                      1397\n",
       "Caugh                     1397\n",
       "Muscle_Pain               1397\n",
       "loss_of_smell             1397\n",
       "Sore_Throat               1397\n",
       "Fatigue                   1397\n",
       "Breathing_Difficulties    1397\n",
       "Chronic_Lung_Disease      1397\n",
       "Ischemic_Heart_Disease    1397\n",
       "Pneumonia                 1397\n",
       "COVID_test_status         1397\n",
       "Diarrheoa                 1397\n",
       "breathing-deep            1396\n",
       "breathing-shallow         1396\n",
       "cough-heavy               1396\n",
       "cough-shallow             1395\n",
       "counting-fast             1397\n",
       "counting-normal           1397\n",
       "vowel-a                   1396\n",
       "vowel-e                   1396\n",
       "vowel-o                   1395\n",
       "COVID_LABEL               1397\n",
       "dtype: int64"
      ]
     },
     "execution_count": 18,
     "metadata": {},
     "output_type": "execute_result"
    }
   ],
   "source": [
    "sound_metadata.count()"
   ]
  },
  {
   "cell_type": "code",
   "execution_count": 19,
   "metadata": {},
   "outputs": [
    {
     "data": {
      "text/plain": [
       "Index(['USER_ID', 'AGE', 'COVID_STATUS', 'Diabetes', 'Asthma', 'Smoker',\n",
       "       'Hypertension', 'Fever', 'Returning_User', 'Using_Mask', 'Cold',\n",
       "       'Caugh', 'Muscle_Pain', 'loss_of_smell', 'Sore_Throat', 'Fatigue',\n",
       "       'Breathing_Difficulties', 'Chronic_Lung_Disease',\n",
       "       'Ischemic_Heart_Disease', 'Pneumonia', 'COVID_test_status', 'Diarrheoa',\n",
       "       'breathing-deep', 'breathing-shallow', 'cough-heavy', 'cough-shallow',\n",
       "       'counting-fast', 'counting-normal', 'vowel-a', 'vowel-e', 'vowel-o',\n",
       "       'COVID_LABEL'],\n",
       "      dtype='object')"
      ]
     },
     "execution_count": 19,
     "metadata": {},
     "output_type": "execute_result"
    }
   ],
   "source": [
    "sound_metadata.columns"
   ]
  },
  {
   "cell_type": "code",
   "execution_count": 20,
   "metadata": {},
   "outputs": [
    {
     "data": {
      "text/html": [
       "<div>\n",
       "<style scoped>\n",
       "    .dataframe tbody tr th:only-of-type {\n",
       "        vertical-align: middle;\n",
       "    }\n",
       "\n",
       "    .dataframe tbody tr th {\n",
       "        vertical-align: top;\n",
       "    }\n",
       "\n",
       "    .dataframe thead th {\n",
       "        text-align: right;\n",
       "    }\n",
       "</style>\n",
       "<table border=\"1\" class=\"dataframe\">\n",
       "  <thead>\n",
       "    <tr style=\"text-align: right;\">\n",
       "      <th></th>\n",
       "      <th></th>\n",
       "      <th></th>\n",
       "      <th>User Count</th>\n",
       "    </tr>\n",
       "    <tr>\n",
       "      <th>COVID_LABEL</th>\n",
       "      <th>COVID_test_status</th>\n",
       "      <th>COVID_STATUS</th>\n",
       "      <th></th>\n",
       "    </tr>\n",
       "  </thead>\n",
       "  <tbody>\n",
       "    <tr>\n",
       "      <th rowspan=\"11\" valign=\"top\">test</th>\n",
       "      <th rowspan=\"3\" valign=\"top\">1.0</th>\n",
       "      <th>positive_asymp</th>\n",
       "      <td>11</td>\n",
       "    </tr>\n",
       "    <tr>\n",
       "      <th>positive_mild</th>\n",
       "      <td>38</td>\n",
       "    </tr>\n",
       "    <tr>\n",
       "      <th>positive_moderate</th>\n",
       "      <td>7</td>\n",
       "    </tr>\n",
       "    <tr>\n",
       "      <th rowspan=\"5\" valign=\"top\">0.0</th>\n",
       "      <th>healthy</th>\n",
       "      <td>1127</td>\n",
       "    </tr>\n",
       "    <tr>\n",
       "      <th>no_resp_illness_exposed</th>\n",
       "      <td>84</td>\n",
       "    </tr>\n",
       "    <tr>\n",
       "      <th>recovered_full</th>\n",
       "      <td>10</td>\n",
       "    </tr>\n",
       "    <tr>\n",
       "      <th>resp_illness_not_identified</th>\n",
       "      <td>77</td>\n",
       "    </tr>\n",
       "    <tr>\n",
       "      <th>ñ</th>\n",
       "      <td>1</td>\n",
       "    </tr>\n",
       "    <tr>\n",
       "      <th rowspan=\"3\" valign=\"top\">nan</th>\n",
       "      <th>healthy</th>\n",
       "      <td>35</td>\n",
       "    </tr>\n",
       "    <tr>\n",
       "      <th>no_resp_illness_exposed</th>\n",
       "      <td>6</td>\n",
       "    </tr>\n",
       "    <tr>\n",
       "      <th>resp_illness_not_identified</th>\n",
       "      <td>1</td>\n",
       "    </tr>\n",
       "  </tbody>\n",
       "</table>\n",
       "</div>"
      ],
      "text/plain": [
       "                                                           User Count\n",
       "COVID_LABEL COVID_test_status COVID_STATUS                           \n",
       "test        1.0               positive_asymp                       11\n",
       "                              positive_mild                        38\n",
       "                              positive_moderate                     7\n",
       "            0.0               healthy                            1127\n",
       "                              no_resp_illness_exposed              84\n",
       "                              recovered_full                       10\n",
       "                              resp_illness_not_identified          77\n",
       "                              ñ                                     1\n",
       "            nan               healthy                              35\n",
       "                              no_resp_illness_exposed               6\n",
       "                              resp_illness_not_identified           1"
      ]
     },
     "execution_count": 20,
     "metadata": {},
     "output_type": "execute_result"
    }
   ],
   "source": [
    "# Correcting COVID_test_status based on COVID_STATUS\n",
    "sound_metadata.loc[sound_metadata['COVID_STATUS'].astype(str).str.contains('positive'), 'COVID_test_status'] = 1.0\n",
    "\n",
    "# Verify the changes (Optional but recommended)\n",
    "sound_metadata.groupby(['COVID_LABEL','COVID_test_status','COVID_STATUS']).agg({'USER_ID':'count'}).rename(columns={'USER_ID':'User Count'})"
   ]
  },
  {
   "cell_type": "code",
   "execution_count": null,
   "metadata": {},
   "outputs": [],
   "source": [
    "print(sound_metadata.isnull().sum())"
   ]
  },
  {
   "cell_type": "code",
   "execution_count": null,
   "metadata": {},
   "outputs": [],
   "source": [
    "# Fill missing values with a placeholder (e.g., empty string or a default path)\n",
    "sound_metadata.fillna('', inplace=True)"
   ]
  },
  {
   "cell_type": "code",
   "execution_count": null,
   "metadata": {},
   "outputs": [],
   "source": [
    "source = sound_metadata['COVID_test_status'].value_counts()\n",
    "print(source.count)"
   ]
  },
  {
   "cell_type": "code",
   "execution_count": null,
   "metadata": {},
   "outputs": [],
   "source": [
    "import nbformat\n",
    "print(nbformat.__version__)"
   ]
  },
  {
   "cell_type": "code",
   "execution_count": null,
   "metadata": {},
   "outputs": [],
   "source": [
    "import plotly.express as px\n",
    "import plotly.graph_objects as go\n",
    "import plotly.figure_factory as ff\n",
    "from plotly.subplots import make_subplots\n",
    "from plotly.offline import init_notebook_mode, iplot\n",
    "init_notebook_mode(connected=True)\n",
    "\n",
    "import warnings\n",
    "warnings.filterwarnings(\"ignore\")\n",
    "\n",
    "fig = go.Figure(data=[go.Pie(labels=source.index,values=source.values)])\n",
    "fig.update_layout(title='Target distribution')\n",
    "fig.show()"
   ]
  },
  {
   "cell_type": "code",
   "execution_count": null,
   "metadata": {},
   "outputs": [],
   "source": [
    "print(sound_metadata['COVID_test_status'])"
   ]
  },
  {
   "cell_type": "code",
   "execution_count": null,
   "metadata": {},
   "outputs": [],
   "source": [
    "for col in ['breathing-deep', 'breathing-shallow', 'cough-heavy', 'cough-shallow',\n",
    "            'counting-fast', 'counting-normal', 'vowel-a', 'vowel-e', 'vowel-o']:\n",
    "    sound_metadata[col] = sound_metadata[col].apply(lambda x: os.path.join(file_path, x.lstrip('/')))"
   ]
  },
  {
   "cell_type": "code",
   "execution_count": null,
   "metadata": {},
   "outputs": [],
   "source": [
    "print(sound_metadata.head())"
   ]
  },
  {
   "cell_type": "code",
   "execution_count": null,
   "metadata": {},
   "outputs": [],
   "source": [
    "# Function to extract MFCC features from an audio file\n",
    "def extract_mfcc(file_path, n_mfcc=13):\n",
    "    if not file_path:  # Handle empty paths\n",
    "        return np.zeros((n_mfcc,))\n",
    "    try:\n",
    "        y, sr = librosa.load(file_path, sr=None)\n",
    "        mfccs = librosa.feature.mfcc(y=y, sr=sr, n_mfcc=n_mfcc)\n",
    "        mfccs = np.mean(mfccs.T, axis=0)\n",
    "        return mfccs\n",
    "    except Exception as e:\n",
    "        print(f\"Error loading {file_path}: {e}\")\n",
    "        return np.zeros((n_mfcc,))"
   ]
  },
  {
   "cell_type": "code",
   "execution_count": null,
   "metadata": {},
   "outputs": [],
   "source": [
    "# Extract MFCC features for all audio files in the metadata\n",
    "for col in ['breathing-deep', 'breathing-shallow', 'cough-heavy', 'cough-shallow',\n",
    "            'counting-fast', 'counting-normal', 'vowel-a', 'vowel-e', 'vowel-o']:\n",
    "    sound_metadata[col + '_mfcc'] = sound_metadata[col].apply(lambda x: extract_mfcc(x))\n",
    "\n",
    "# Combine all MFCC features into a single feature set\n",
    "mfcc_features = np.hstack([sound_metadata[col + '_mfcc'].tolist() for col in ['breathing-deep', 'breathing-shallow', 'cough-heavy', 'cough-shallow',\n",
    "                 'counting-fast', 'counting-normal', 'vowel-a', 'vowel-e', 'vowel-o']])"
   ]
  },
  {
   "cell_type": "code",
   "execution_count": null,
   "metadata": {},
   "outputs": [],
   "source": [
    "# Separate features and labels\n",
    "X = mfcc_features\n",
    "y = sound_metadata['COVID_LABEL']\n",
    "y = to_categorical(y) "
   ]
  },
  {
   "cell_type": "code",
   "execution_count": null,
   "metadata": {},
   "outputs": [],
   "source": [
    "# Split the data into training and testing sets\n",
    "X_train, X_test, y_train, y_test = train_test_split(X, y, test_size=0.2, random_state=42)"
   ]
  },
  {
   "cell_type": "code",
   "execution_count": null,
   "metadata": {},
   "outputs": [],
   "source": [
    "# Reshape the data to fit the RNN model\n",
    "X_train = X_train.reshape(X_train.shape[0], X_train.shape[1], 1)\n",
    "X_test = X_test.reshape(X_test.shape[0], X_test.shape[1], 1)"
   ]
  },
  {
   "cell_type": "code",
   "execution_count": null,
   "metadata": {},
   "outputs": [],
   "source": [
    "class Coati(tf.keras.optimizers.Optimizer):\n",
    "    def __init__(self, learning_rate=0.01, name='Coati', **kwargs):\n",
    "        \"\"\"Constructs a new Coati optimizer.\n",
    "\n",
    "        Args:\n",
    "            learning_rate: A Tensor or a floating point value. The learning rate.\n",
    "            name: Optional name prefix for the operations created when applying gradients.\n",
    "            **kwargs: Keyword arguments. Allowed to be one of \"clipnorm\" or \"clipvalue\".\n",
    "        \"\"\"\n",
    "        super(Coati, self).__init__(name, **kwargs)\n",
    "        self._set_hyper('learning_rate', kwargs.get('lr', learning_rate))  # handle lr=learning_rate\n",
    "        # Add any other hyperparameters you need here\n",
    "\n",
    "    def _create_slots(self, var_list):\n",
    "        # Create slots for additional tensors here\n",
    "        pass\n",
    "\n",
    "    def _resource_apply_dense(self, grad, var, apply_state=None):\n",
    "        # Update 'var' with 'grad' here using your custom optimization algorithm\n",
    "        lr_t = self._decayed_lr(tf.float32)  # handle learning rate decay\n",
    "        var.assign_sub(lr_t * grad)\n",
    "\n",
    "    def _resource_apply_sparse(self, grad, var, indices, apply_state=None):\n",
    "        # Handle sparse gradient updates here if necessary\n",
    "        lr_t = self._decayed_lr(tf.float32)  # handle learning rate decay\n",
    "        var.assign_sub(lr_t * tf.gather(grad, indices))\n",
    "\n",
    "    def get_config(self):\n",
    "        base_config = super(Coati, self).get_config()\n",
    "        return {**base_config, 'learning_rate': self._serialize_hyperparameter('learning_rate')}"
   ]
  },
  {
   "cell_type": "code",
   "execution_count": null,
   "metadata": {},
   "outputs": [],
   "source": [
    "import types\n",
    "import torch\n",
    "\n",
    "def set_default_args():\n",
    "    args = types.SimpleNamespace()\n",
    "\n",
    "    # model params\n",
    "    args.input_size = 12  # == n_mfcc\n",
    "    args.batch_size = 1\n",
    "    args.hidden_size = 64\n",
    "    args.num_layers = 3\n",
    "\n",
    "    # training params\n",
    "    args.num_epochs = 100\n",
    "    args.learning_rate = 0.0001\n",
    "    args.learning_rate_decay_interval = 5 # decay for every 5 epochs\n",
    "    args.learning_rate_decay_rate = 0.5 # lr = lr * rate\n",
    "    args.weight_decay = 0.00\n",
    "    args.gradient_accumulations = 16 # number of gradient accums before step\n",
    "    \n",
    "    # training params2\n",
    "    args.load_weights_from = None\n",
    "    args.finetune_model = False # If true, fix all parameters except the fc layer\n",
    "    args.device = torch.device('cuda' if torch.cuda.is_available() else 'cpu')\n",
    "    \n",
    "    # data\n",
    "    args.data_folder = \"data/data_train/\"\n",
    "    args.train_eval_test_ratio=[0.9, 0.1, 0.0]\n",
    "    args.do_data_augment = False\n",
    "\n",
    "    # labels\n",
    "    args.classes_txt = labels\n",
    "    args.num_classes = None # should be added with a value somewhere, like this:\n",
    "    #                = len(lib.read_list(args.classes_txt))\n",
    "\n",
    "    # log setting\n",
    "    args.plot_accu = True # if true, plot accuracy for every epoch\n",
    "    args.show_plotted_accu = False # if false, not calling plt.show(), so drawing figure in background\n",
    "    args.save_model_to = 'checkpoints/' # Save model and log file\n",
    "    \n",
    "    return args\n"
   ]
  },
  {
   "cell_type": "code",
   "execution_count": null,
   "metadata": {},
   "outputs": [],
   "source": [
    "def load_weights(model, weights, PRINT=False):\n",
    "    for i, (name, param) in enumerate(weights.items()):\n",
    "        model_state = model.state_dict()\n",
    "        \n",
    "        if name not in model_state:\n",
    "            print(\"-\"*80)\n",
    "            print(\"weights name:\", name) \n",
    "            print(\"RNN states names:\", model_state.keys()) \n",
    "            assert 0, \"Wrong weights file\"\n",
    "            \n",
    "        model_shape = model_state[name].shape\n",
    "        if model_shape != param.shape:\n",
    "            print(f\"\\nWarning: Size of {name} layer is different between model and weights. Not copy parameters.\")\n",
    "            print(f\"\\tModel shape = {model_shape}, weights' shape = {param.shape}.\")\n",
    "        else:\n",
    "            model_state[name].copy_(param)\n"
   ]
  },
  {
   "cell_type": "code",
   "execution_count": null,
   "metadata": {},
   "outputs": [],
   "source": [
    "def create_RNN_model(args, load_weights_from=None):\n",
    "    args.num_classes = len(labels)\n",
    "    args.save_log_to = args.save_model_to + \"log.txt\"\n",
    "    args.save_fig_to = args.save_model_to + \"fig.jpg\"\n",
    "    \n",
    "    device = args.device\n",
    "    model = RNN(args.input_size, args.hidden_size, args.num_layers, args.num_classes, device).to(device)\n",
    "    \n",
    "    if load_weights_from:\n",
    "        print(f\"Load weights from: {load_weights_from}\")\n",
    "        weights = torch.load(load_weights_from)\n",
    "        load_weights(model, weights)\n",
    "    \n",
    "    return model\n"
   ]
  },
  {
   "cell_type": "code",
   "execution_count": null,
   "metadata": {},
   "outputs": [],
   "source": [
    "def evaluate_model(model, eval_loader, num_to_eval=-1):\n",
    "    device = model.device\n",
    "    correct = 0\n",
    "    total = 0\n",
    "    for i, (featuress, labels) in enumerate(eval_loader):\n",
    "\n",
    "        featuress = featuress.to(device)\n",
    "        labels = labels.to(device)\n",
    "\n",
    "        outputs = model(featuress)\n",
    "\n",
    "        _, predicted = torch.max(outputs.data, 1)\n",
    "        total += labels.size(0)\n",
    "        correct += (predicted == labels).sum().item()\n",
    "\n",
    "        if i+1 == num_to_eval:\n",
    "            break\n",
    "    eval_accu = correct / total\n",
    "    print('  Evaluate on eval or test dataset with {} samples: Accuracy = {}%'.format(\n",
    "        i+1, 100 * eval_accu)) \n",
    "    return eval_accu\n"
   ]
  },
  {
   "cell_type": "code",
   "execution_count": null,
   "metadata": {},
   "outputs": [],
   "source": [
    "def fix_weights_except_fc(model):\n",
    "    not_fix = \"fc\"\n",
    "    for name, param in model.state_dict().items():\n",
    "        if not_fix in name:\n",
    "            continue\n",
    "        else:\n",
    "            print(f\"Fix {name} layer\", end='. ')\n",
    "            param.requires_grad = False\n",
    "    print(\"\")\n"
   ]
  },
  {
   "cell_type": "code",
   "execution_count": null,
   "metadata": {},
   "outputs": [],
   "source": [
    "import os\n",
    "import torch.nn as nn\n",
    "import matplotlib.pyplot as plt\n",
    "\n",
    "def train_model(model, args, train_loader, eval_loader):\n",
    "\n",
    "    device = model.device\n",
    "    logger = lib.TrainingLog(training_args=args)\n",
    "    if args.finetune_model:\n",
    "        fix_weights_except_fc(model)\n",
    "        \n",
    "    if args.save_model_to:\n",
    "        if not os.path.exists(args.save_model_to):\n",
    "            os.makedirs(args.save_model_to)\n",
    "            \n",
    "    criterion = nn.CrossEntropyLoss()\n",
    "    optimizer = torch.optim.Adam(model.parameters(), lr=args.learning_rate, weight_decay=args.weight_decay)\n",
    "    optimizer.zero_grad()\n",
    "\n",
    "    def update_lr(optimizer, lr):    \n",
    "        for param_group in optimizer.param_groups:\n",
    "            param_group['lr'] = lr\n",
    "\n",
    "    total_step = len(train_loader)\n",
    "    curr_lr = args.learning_rate\n",
    "    cnt_batches = 0\n",
    "    for epoch in range(1, 1+args.num_epochs):\n",
    "        cnt_correct, cnt_total = 0, 0\n",
    "        for i, (featuress, labels) in enumerate(train_loader):\n",
    "            cnt_batches += 1\n",
    "\n",
    "            featuress = featuress.to(device)\n",
    "            labels = labels.to(device)\n",
    "            \n",
    "            outputs = model(featuress)\n",
    "            loss = criterion(outputs, labels)\n",
    "            \n",
    "            loss.backward()\n",
    "            if cnt_batches % args.gradient_accumulations == 0:\n",
    "                optimizer.step()\n",
    "                optimizer.zero_grad()\n",
    "\n",
    "            _, argmax = torch.max(outputs, 1)\n",
    "            cnt_correct += (labels == argmax.squeeze()).sum().item()\n",
    "            cnt_total += labels.size(0)\n",
    "            \n",
    "            train_accu = cnt_correct/cnt_total\n",
    "            if (i+1) % 50 == 0 or (i+1) == len(train_loader):\n",
    "                print ('Epoch [{}/{}], Step [{}/{}], Loss = {:.4f}, Train accuracy = {:.2f}' \n",
    "                    .format(epoch, args.num_epochs, i+1, total_step, loss.item(), 100*train_accu))\n",
    "            continue\n",
    "        print(f\"Epoch {epoch} completes\")\n",
    "        \n",
    "        if (epoch) % args.learning_rate_decay_interval == 0:\n",
    "            curr_lr *= args.learning_rate_decay_rate\n",
    "            update_lr(optimizer, curr_lr)\n",
    "    \n",
    "        if (epoch) % 1 == 0 or (epoch) == args.num_epochs:\n",
    "            eval_accu = evaluate_model(model, eval_loader, num_to_eval=-1)\n",
    "            if args.save_model_to:\n",
    "                name_to_save = args.save_model_to + \"/\" + \"{:03d}\".format(epoch) + \".ckpt\"\n",
    "                torch.save(model.state_dict(), name_to_save)\n",
    "                print(\"Save model to: \", name_to_save)\n",
    "\n",
    "            logger.store_accuracy(epoch, train=train_accu, eval=eval_accu)\n",
    "            logger.save_log(args.save_log_to)\n",
    "            \n",
    "            if args.plot_accu and epoch == 1:\n",
    "                plt.figure(figsize=(10, 8))\n",
    "                plt.ion()\n",
    "                if args.show_plotted_accu:\n",
    "                    plt.show()\n",
    "            if (epoch == args.num_epochs) or (args.plot_accu and epoch>1):\n",
    "                logger.plot_train_eval_accuracy()\n",
    "                if args.show_plotted_accu:\n",
    "                    plt.pause(0.01)\n",
    "                plt.savefig(fname=args.save_fig_to)\n",
    "        \n",
    "        print(\"-\"*80 + \"\\n\")\n",
    "    \n",
    "    return\n"
   ]
  },
  {
   "cell_type": "code",
   "execution_count": null,
   "metadata": {},
   "outputs": [],
   "source": [
    "# Assuming COATI is installed or available in your working directory\n",
    "from coati import COATI\n",
    "\n",
    "def train_model(model, args, train_loader, eval_loader):\n",
    "\n",
    "    device = model.device\n",
    "    logger = lib.TrainingLog(training_args=args)\n",
    "    if args.finetune_model:\n",
    "        fix_weights_except_fc(model)\n",
    "        \n",
    "    if args.save_model_to:\n",
    "        if not os.path.exists(args.save_model_to):\n",
    "            os.makedirs(args.save_model_to)\n",
    "            \n",
    "    criterion = nn.CrossEntropyLoss()\n",
    "    # Replace Adam with COATI\n",
    "    optimizer = COATI(model.parameters(), lr=args.learning_rate, weight_decay=args.weight_decay)\n",
    "    optimizer.zero_grad()\n",
    "\n",
    "    def update_lr(optimizer, lr):    \n",
    "        for param_group in optimizer.param_groups:\n",
    "            param_group\n"
   ]
  },
  {
   "cell_type": "code",
   "execution_count": null,
   "metadata": {},
   "outputs": [],
   "source": [
    "# Train the model\n",
    "history = model.fit(X_train, y_train, epochs=20, batch_size=32, validation_data=(X_test, y_test))"
   ]
  },
  {
   "cell_type": "code",
   "execution_count": null,
   "metadata": {},
   "outputs": [],
   "source": [
    "# Make predictions on the test set\n",
    "y_pred = model.predict(X_test)\n",
    "y_pred_classes = np.argmax(y_pred, axis=1)\n",
    "y_true_classes = np.argmax(y_test, axis=1)"
   ]
  },
  {
   "cell_type": "code",
   "execution_count": null,
   "metadata": {},
   "outputs": [],
   "source": [
    "# Print the classification report\n",
    "print(classification_report(y_true_classes, y_pred_classes))"
   ]
  },
  {
   "cell_type": "code",
   "execution_count": null,
   "metadata": {},
   "outputs": [],
   "source": []
  }
 ],
 "metadata": {
  "kernelspec": {
   "display_name": "Python 3",
   "language": "python",
   "name": "python3"
  },
  "language_info": {
   "codemirror_mode": {
    "name": "ipython",
    "version": 3
   },
   "file_extension": ".py",
   "mimetype": "text/x-python",
   "name": "python",
   "nbconvert_exporter": "python",
   "pygments_lexer": "ipython3",
   "version": "3.12.3"
  }
 },
 "nbformat": 4,
 "nbformat_minor": 2
}
