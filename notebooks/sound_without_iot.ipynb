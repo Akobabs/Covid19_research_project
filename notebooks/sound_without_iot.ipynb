{
 "cells": [
  {
   "cell_type": "code",
   "execution_count": 1,
   "metadata": {},
   "outputs": [],
   "source": [
    "import pandas as pd\n",
    "import matplotlib.pyplot as plt\n",
    "import numpy as np\n",
    "import librosa\n",
    "import librosa.display\n",
    "import tensorflow as tf\n",
    "import os\n",
    "import shutil\n",
    "import pickle\n",
    "import cv2\n",
    "import json\n",
    "from sklearn.model_selection import train_test_split,StratifiedShuffleSplit\n",
    "from sklearn.preprocessing import LabelBinarizer\n",
    "from sklearn.preprocessing import LabelEncoder\n",
    "from tensorflow.keras.utils import to_categorical\n",
    "from tensorflow.keras.models import Sequential\n",
    "from tensorflow.keras.layers import Dense, LSTM, Dropout\n",
    "from sklearn.metrics import classification_report\n",
    "from tensorflow.keras.optimizers import Optimizer"
   ]
  },
  {
   "cell_type": "code",
   "execution_count": 2,
   "metadata": {},
   "outputs": [],
   "source": [
    "file_path = 'C:/Users/Akoba/Desktop/START up/Covid19_research_project/data/raw/cough_sounds'\n",
    "sound_metadata = pd.read_csv(file_path + '/sound-metadata.csv', encoding = 'latin1')"
   ]
  },
  {
   "cell_type": "code",
   "execution_count": 3,
   "metadata": {},
   "outputs": [
    {
     "data": {
      "text/plain": [
       "Index(['USER_ID', 'COUNTRY', 'AGE', 'COVID_STATUS', 'ENGLISH_PROFICIENCY',\n",
       "       'GENDER', 'COUNTY_RO_STATE', 'CITY_LOCALITY', 'Diabetes', 'Asthma',\n",
       "       'Smoker', 'Hypertension', 'Fever', 'Returning_User', 'Using_Mask',\n",
       "       'Cold', 'Caugh', 'Muscle_Pain', 'loss_of_smell', 'Sore_Throat',\n",
       "       'Fatigue', 'Breathing_Difficulties', 'Chronic_Lung_Disease',\n",
       "       'Ischemic_Heart_Disease', 'Pneumonia', 'COVID_test_status', 'Diarrheoa',\n",
       "       'DATES', 'breathing-deep', 'breathing-shallow', 'cough-heavy',\n",
       "       'cough-shallow', 'counting-fast', 'counting-normal', 'vowel-a',\n",
       "       'vowel-e', 'vowel-o'],\n",
       "      dtype='object')"
      ]
     },
     "execution_count": 3,
     "metadata": {},
     "output_type": "execute_result"
    }
   ],
   "source": [
    "sound_metadata.columns"
   ]
  },
  {
   "cell_type": "code",
   "execution_count": 4,
   "metadata": {},
   "outputs": [],
   "source": [
    "sound_metadata.drop('COUNTRY', axis=1, inplace=True)\n",
    "sound_metadata.drop('GENDER', axis=1, inplace=True)\n",
    "sound_metadata.drop('COUNTY_RO_STATE', axis=1, inplace=True)\n",
    "sound_metadata.drop('CITY_LOCALITY', axis=1, inplace=True)\n",
    "sound_metadata.drop('ENGLISH_PROFICIENCY', axis=1, inplace=True)\n",
    "sound_metadata.drop('DATES', axis=1, inplace=True)"
   ]
  },
  {
   "cell_type": "code",
   "execution_count": 5,
   "metadata": {},
   "outputs": [
    {
     "data": {
      "text/plain": [
       "Index(['USER_ID', 'AGE', 'COVID_STATUS', 'Diabetes', 'Asthma', 'Smoker',\n",
       "       'Hypertension', 'Fever', 'Returning_User', 'Using_Mask', 'Cold',\n",
       "       'Caugh', 'Muscle_Pain', 'loss_of_smell', 'Sore_Throat', 'Fatigue',\n",
       "       'Breathing_Difficulties', 'Chronic_Lung_Disease',\n",
       "       'Ischemic_Heart_Disease', 'Pneumonia', 'COVID_test_status', 'Diarrheoa',\n",
       "       'breathing-deep', 'breathing-shallow', 'cough-heavy', 'cough-shallow',\n",
       "       'counting-fast', 'counting-normal', 'vowel-a', 'vowel-e', 'vowel-o'],\n",
       "      dtype='object')"
      ]
     },
     "execution_count": 5,
     "metadata": {},
     "output_type": "execute_result"
    }
   ],
   "source": [
    "sound_metadata.columns"
   ]
  },
  {
   "cell_type": "code",
   "execution_count": 6,
   "metadata": {},
   "outputs": [],
   "source": [
    "def label_for_cat(file_path):\n",
    "    if 'train' in file_path:\n",
    "        res = 'train'\n",
    "    else:\n",
    "        res = 'test'\n",
    "    return res"
   ]
  },
  {
   "cell_type": "code",
   "execution_count": 7,
   "metadata": {},
   "outputs": [],
   "source": [
    "sound_metadata['COVID_test_status'] = sound_metadata['COVID_test_status'].astype('str')\n",
    "sound_metadata['COVID_LABEL'] = np.vectorize(label_for_cat)(sound_metadata['COVID_test_status'])"
   ]
  },
  {
   "cell_type": "code",
   "execution_count": 8,
   "metadata": {},
   "outputs": [
    {
     "data": {
      "text/plain": [
       "USER_ID                   1397\n",
       "AGE                       1397\n",
       "COVID_STATUS              1397\n",
       "Diabetes                  1397\n",
       "Asthma                    1397\n",
       "Smoker                    1397\n",
       "Hypertension              1397\n",
       "Fever                     1397\n",
       "Returning_User            1397\n",
       "Using_Mask                1397\n",
       "Cold                      1397\n",
       "Caugh                     1397\n",
       "Muscle_Pain               1397\n",
       "loss_of_smell             1397\n",
       "Sore_Throat               1397\n",
       "Fatigue                   1397\n",
       "Breathing_Difficulties    1397\n",
       "Chronic_Lung_Disease      1397\n",
       "Ischemic_Heart_Disease    1397\n",
       "Pneumonia                 1397\n",
       "COVID_test_status         1397\n",
       "Diarrheoa                 1397\n",
       "breathing-deep            1396\n",
       "breathing-shallow         1396\n",
       "cough-heavy               1396\n",
       "cough-shallow             1395\n",
       "counting-fast             1397\n",
       "counting-normal           1397\n",
       "vowel-a                   1396\n",
       "vowel-e                   1396\n",
       "vowel-o                   1395\n",
       "COVID_LABEL               1397\n",
       "dtype: int64"
      ]
     },
     "execution_count": 8,
     "metadata": {},
     "output_type": "execute_result"
    }
   ],
   "source": [
    "sound_metadata.columns\n",
    "sound_metadata.count()"
   ]
  },
  {
   "cell_type": "code",
   "execution_count": 9,
   "metadata": {},
   "outputs": [
    {
     "name": "stderr",
     "output_type": "stream",
     "text": [
      "C:\\Users\\Akoba\\AppData\\Local\\Temp\\ipykernel_3128\\1047930978.py:2: FutureWarning: A value is trying to be set on a copy of a DataFrame or Series through chained assignment using an inplace method.\n",
      "The behavior will change in pandas 3.0. This inplace method will never work because the intermediate object on which we are setting values always behaves as a copy.\n",
      "\n",
      "For example, when doing 'df[col].method(value, inplace=True)', try using 'df.method({col: value}, inplace=True)' or df[col] = df[col].method(value) instead, to perform the operation inplace on the original object.\n",
      "\n",
      "\n",
      "  sound_metadata['COVID_test_status'].fillna(1.0, inplace=True)\n"
     ]
    }
   ],
   "source": [
    "# Fill NaN values in 'COVID_test_status' column with 1.0\n",
    "sound_metadata['COVID_test_status'].fillna(1.0, inplace=True)"
   ]
  },
  {
   "cell_type": "code",
   "execution_count": 10,
   "metadata": {},
   "outputs": [
    {
     "data": {
      "text/plain": [
       "USER_ID                   1397\n",
       "AGE                       1397\n",
       "COVID_STATUS              1397\n",
       "Diabetes                  1397\n",
       "Asthma                    1397\n",
       "Smoker                    1397\n",
       "Hypertension              1397\n",
       "Fever                     1397\n",
       "Returning_User            1397\n",
       "Using_Mask                1397\n",
       "Cold                      1397\n",
       "Caugh                     1397\n",
       "Muscle_Pain               1397\n",
       "loss_of_smell             1397\n",
       "Sore_Throat               1397\n",
       "Fatigue                   1397\n",
       "Breathing_Difficulties    1397\n",
       "Chronic_Lung_Disease      1397\n",
       "Ischemic_Heart_Disease    1397\n",
       "Pneumonia                 1397\n",
       "COVID_test_status         1397\n",
       "Diarrheoa                 1397\n",
       "breathing-deep            1396\n",
       "breathing-shallow         1396\n",
       "cough-heavy               1396\n",
       "cough-shallow             1395\n",
       "counting-fast             1397\n",
       "counting-normal           1397\n",
       "vowel-a                   1396\n",
       "vowel-e                   1396\n",
       "vowel-o                   1395\n",
       "COVID_LABEL               1397\n",
       "dtype: int64"
      ]
     },
     "execution_count": 10,
     "metadata": {},
     "output_type": "execute_result"
    }
   ],
   "source": [
    "sound_metadata.count()"
   ]
  },
  {
   "cell_type": "code",
   "execution_count": null,
   "metadata": {},
   "outputs": [],
   "source": []
  }
 ],
 "metadata": {
  "kernelspec": {
   "display_name": "Python 3",
   "language": "python",
   "name": "python3"
  },
  "language_info": {
   "codemirror_mode": {
    "name": "ipython",
    "version": 3
   },
   "file_extension": ".py",
   "mimetype": "text/x-python",
   "name": "python",
   "nbconvert_exporter": "python",
   "pygments_lexer": "ipython3",
   "version": "3.12.3"
  }
 },
 "nbformat": 4,
 "nbformat_minor": 2
}
